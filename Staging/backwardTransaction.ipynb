{
  "nbformat": 4,
  "nbformat_minor": 0,
  "metadata": {
    "colab": {
      "name": "backwardTransaction.ipynb",
      "provenance": [],
      "collapsed_sections": [],
      "mount_file_id": "1YPFrv1FeVJDWWcRAsXMMTB57B0YSCEaf",
      "authorship_tag": "ABX9TyNqalHOKoX64E/7DwMlCtGe",
      "include_colab_link": true
    },
    "kernelspec": {
      "name": "python3",
      "display_name": "Python 3"
    },
    "language_info": {
      "name": "python"
    }
  },
  "cells": [
    {
      "cell_type": "markdown",
      "metadata": {
        "id": "view-in-github",
        "colab_type": "text"
      },
      "source": [
        "<a href=\"https://colab.research.google.com/github/naenumtou/ifrs9/blob/main/Staging/backwardTransaction.ipynb\" target=\"_parent\"><img src=\"https://colab.research.google.com/assets/colab-badge.svg\" alt=\"Open In Colab\"/></a>"
      ]
    },
    {
      "cell_type": "code",
      "execution_count": 1,
      "metadata": {
        "id": "t_1UjbrN2Ph7"
      },
      "outputs": [],
      "source": [
        "# Set auto reload\n",
        "%reload_ext autoreload\n",
        "%autoreload 2"
      ]
    },
    {
      "cell_type": "code",
      "source": [
        "# Change directory to Google Drive\n",
        "%cd /content/drive/My Drive/Colab Notebooks/BScore"
      ],
      "metadata": {
        "colab": {
          "base_uri": "https://localhost:8080/"
        },
        "id": "v4aL23_J2jes",
        "outputId": "f7de7680-2524-487a-846b-28e15c75c3e2"
      },
      "execution_count": 2,
      "outputs": [
        {
          "output_type": "stream",
          "name": "stdout",
          "text": [
            "/content/drive/My Drive/Colab Notebooks/BScore\n"
          ]
        }
      ]
    },
    {
      "cell_type": "code",
      "source": [
        "# Import libraries\n",
        "import warnings\n",
        "import pandas as pd\n",
        "import numpy as np\n",
        "import matplotlib.pyplot as plt\n",
        "import matplotlib.ticker as mtick\n",
        "import seaborn as sns\n",
        "\n",
        "# Config\n",
        "%config InlineBackend.figure_format = 'retina' #Retina display\n",
        "plt.style.use('seaborn-deep') #Plot style\n",
        "warnings.filterwarnings('ignore') #Disable warning"
      ],
      "metadata": {
        "id": "UaRBPMpK2nzb"
      },
      "execution_count": 3,
      "outputs": []
    },
    {
      "cell_type": "code",
      "source": [
        "# Import data\n",
        "transaction = pd.read_parquet(\n",
        "    'Usedcar_transaction.parquet',\n",
        "    engine = 'pyarrow'\n",
        ")\n",
        "\n",
        "# Data shape\n",
        "print(f'Total rows: {transaction.shape[0]}\\nTotal columns: {transaction.shape[1]}')"
      ],
      "metadata": {
        "colab": {
          "base_uri": "https://localhost:8080/"
        },
        "id": "QIWf4O3m2s17",
        "outputId": "88e01036-3e5c-4474-84c7-911955f18db1"
      },
      "execution_count": 4,
      "outputs": [
        {
          "output_type": "stream",
          "name": "stdout",
          "text": [
            "Total rows: 792456\n",
            "Total columns: 31\n"
          ]
        }
      ]
    },
    {
      "cell_type": "code",
      "source": [
        "# Create default flag\n",
        "transaction['dfFlag'] = np.where(\n",
        "    transaction['BUCKETS'].ge(4),\n",
        "    1,\n",
        "    0\n",
        ")"
      ],
      "metadata": {
        "id": "lzV6TPqw29pY"
      },
      "execution_count": 5,
      "outputs": []
    },
    {
      "cell_type": "code",
      "source": [
        "# Create 12-Month default flag\n",
        "transaction = transaction.sort_values(\n",
        "    by = ['Br_Con', 'Monthkey']\n",
        ") #Sort data by month\n",
        "lag = 12 #12-Month performance window\n",
        "\n",
        "for i in range(1, lag + 1):\n",
        "  transaction[f'dfFlag{i}'] = transaction.groupby(\n",
        "      ['Br_Con']\n",
        "  )['dfFlag'].shift(-i).astype(np.float32)\n",
        "  print(f'Column: {transaction.columns[-1]} created')"
      ],
      "metadata": {
        "colab": {
          "base_uri": "https://localhost:8080/"
        },
        "id": "DLaUSsp93bMT",
        "outputId": "b656af8c-5311-4daa-e8c1-33afddc70c43"
      },
      "execution_count": 6,
      "outputs": [
        {
          "output_type": "stream",
          "name": "stdout",
          "text": [
            "Column: dfFlag1 created\n",
            "Column: dfFlag2 created\n",
            "Column: dfFlag3 created\n",
            "Column: dfFlag4 created\n",
            "Column: dfFlag5 created\n",
            "Column: dfFlag6 created\n",
            "Column: dfFlag7 created\n",
            "Column: dfFlag8 created\n",
            "Column: dfFlag9 created\n",
            "Column: dfFlag10 created\n",
            "Column: dfFlag11 created\n",
            "Column: dfFlag12 created\n"
          ]
        }
      ]
    },
    {
      "cell_type": "code",
      "source": [
        "# Create ever 12-Month default flag\n",
        "transaction['everDefault12'] = np.where(\n",
        "    transaction.loc[:, 'dfFlag1':'dfFlag12'].max(axis = 1).eq(1),\n",
        "    1,\n",
        "    0\n",
        ")"
      ],
      "metadata": {
        "id": "B923VSQD4Ib5"
      },
      "execution_count": 7,
      "outputs": []
    },
    {
      "cell_type": "code",
      "source": [
        "# Create backward transaction\n",
        "for i in range(1, lag + 1):\n",
        "  transaction[f'BUCKETS{i}'] = transaction.groupby(\n",
        "      ['Br_Con']\n",
        "  )['BUCKETS'].shift(i).astype(np.float32)\n",
        "  print(f'Column: {transaction.columns[-1]} created')"
      ],
      "metadata": {
        "id": "_7KjZkDX4kWH",
        "colab": {
          "base_uri": "https://localhost:8080/"
        },
        "outputId": "8b935776-42a5-45cf-a47e-032f4ea2066a"
      },
      "execution_count": 8,
      "outputs": [
        {
          "output_type": "stream",
          "name": "stdout",
          "text": [
            "Column: BUCKETS1 created\n",
            "Column: BUCKETS2 created\n",
            "Column: BUCKETS3 created\n",
            "Column: BUCKETS4 created\n",
            "Column: BUCKETS5 created\n",
            "Column: BUCKETS6 created\n",
            "Column: BUCKETS7 created\n",
            "Column: BUCKETS8 created\n",
            "Column: BUCKETS9 created\n",
            "Column: BUCKETS10 created\n",
            "Column: BUCKETS11 created\n",
            "Column: BUCKETS12 created\n"
          ]
        }
      ]
    },
    {
      "cell_type": "markdown",
      "source": [
        "### Staging trigger\n",
        "The Bank shall measure the loss allowance equal to the lifetime expected credit losses for those financial instruments has increased significantly since initial recognition. However, there is no specific criteria mentioned in the standard.\n",
        "\n",
        "Listed below is variables for Stage 2 trigger:\n",
        "\n",
        "Trigger | Description \n",
        "-----------|------------\n",
        "max_del_12 | Maximum delinquency in the last 12 months\n",
        "max_del_9  | Maximum delinquency in the last 9 months\n",
        "max_del_6  | Maximum delinquency in the last 6 months\n",
        "max_del_3  | Maximum delinquency in the last 3 months\n",
        "n_x_dpd_12 | Number of times that has delinquency more than 0 day (X DPD) in the last 12 months\n",
        "n_30_dpd_12 | Number of times that has delinquency more than 30 day (30+ DPD) in the last 12 months\n",
        "n_60_dpd_12 | Number of times that has delinquency more than 60 day (60+ DPD) in the last 12 months\n",
        "n_90_dpd_12 | Number of times that has delinquency more than 90 day (90+ DPD) in the last 12 months\n",
        "n_x_dpd_9 | Number of times that has delinquency more than 0 day (X DPD) in the last 9 months\n",
        "n_30_dpd_9 | Number of times that has delinquency more than 30 day (30+ DPD) in the last 9 months\n",
        "n_60_dpd_9 | Number of times that has delinquency more than 60 day (60+ DPD) in the last 9 months\n",
        "n_90_dpd_9 | Number of times that has delinquency more than 90 day (90+ DPD) in the last 9 months\n",
        "n_x_dpd_6 | Number of times that has delinquency more than 0 day (X DPD) in the last 6 months\n",
        "n_30_dpd_6 | Number of times that has delinquency more than 30 day (30+ DPD) in the last 6 months\n",
        "n_60_dpd_6 | Number of times that has delinquency more than 60 day (60+ DPD) in the last 6 months\n",
        "n_90_dpd_6 | Number of times that has delinquency more than 90 day (90+ DPD) in the last 6 months\n",
        "n_x_dpd_3 | Number of times that has delinquency more than 0 day (X DPD) in the last 3 months\n",
        "n_30_dpd_3 | Number of times that has delinquency more than 30 day (30+ DPD) in the last 3 months\n",
        "n_60_dpd_3 | Number of times that has delinquency more than 60 day (60+ DPD) in the last 3 months\n",
        "n_90_dpd_3 | Number of times that has delinquency more than 90 day (90+ DPD) in the last 3 months\n",
        "n_last_month_30 | Number of months since last in 30+ DPD\n",
        "n_last_month_60 | Number of months since last in 60+ DPD\n",
        "n_last_month_90 | Number of months since last in 90+ DPD"
      ],
      "metadata": {
        "id": "Puy2G_ljjQ_g"
      }
    },
    {
      "cell_type": "code",
      "source": [
        "# Define iteration variables\n",
        "monthRanges = [12, 9, 6, 3]\n",
        "delRanges = [1, 2, 3, 4]\n",
        "delLabels = ['x', '30', '60', '90']\n",
        "triggers = [] #Keep staging triggers\n",
        "\n",
        "# Maximum delinquency in last 12, 9, 6, 3 months\n",
        "for i in monthRanges:\n",
        "  transaction[f'max_del_{i}'] = transaction.loc[:, 'BUCKETS1':f'BUCKETS{i}'].max(axis = 1)\n",
        "  print(f'Column: {transaction.columns[-1]} created')\n",
        "  transaction[f'max_del_{i}'] = np.where(\n",
        "      transaction[f'BUCKETS{i}'].isnull(),\n",
        "      np.nan,\n",
        "      transaction[f'max_del_{i}']\n",
        "  ) #Replace unavailable data\n",
        "  triggers.append(transaction.columns[-1])\n",
        "\n",
        "# Number of times that a contract has delinquency > 0 day (del >= 1) in last 12, 9, 6, 3 months\n",
        "# Number of times that a contract has delinquency > 30 day (del >= 2) in last 12, 9, 6, 3 months\n",
        "# Number of times that a contract has delinquency > 60 day (del >= 3) in last 12, 9, 6, 3 months\n",
        "# Number of times that a contract has delinquency > 90 day (del >= 4) in last 12, 9, 6, 3 months\n",
        "for i in monthRanges:\n",
        "  for j, label in zip(delRanges, delLabels):\n",
        "    transaction[f'n_{label}_dpd_{i}'] = transaction.loc[:, 'BUCKETS1':f'BUCKETS{i}'].ge(j).sum(axis = 1)\n",
        "    print(f'Column: {transaction.columns[-1]} created')\n",
        "    transaction[f'n_{label}_dpd_{i}'] = np.where(\n",
        "        transaction[f'BUCKETS{i}'].isnull(),\n",
        "        np.nan,\n",
        "        transaction[f'n_{label}_dpd_{i}']\n",
        "    ) #Replace unavailable data\n",
        "    triggers.append(transaction.columns[-1])\n",
        "\n",
        "# Number of months since last delinquency as status equal to 30, 60, 90 days\n",
        "for i, label in zip(delRanges[1:], delLabels[1:]): #(No x dpd)\n",
        "  condition = transaction.loc[:, 'BUCKETS1':'BUCKETS12'].values == i\n",
        "  transaction[f'n_last_month_{label}'] = np.where(\n",
        "      np.any(\n",
        "          condition,\n",
        "          axis = 1\n",
        "      ),\n",
        "      condition.argmax(axis = 1) + 1,\n",
        "      np.nan\n",
        "  )\n",
        "  print(f'Column: {transaction.columns[-1]} created')\n",
        "  triggers.append(transaction.columns[-1])"
      ],
      "metadata": {
        "id": "L9byfkq_kh8p",
        "colab": {
          "base_uri": "https://localhost:8080/"
        },
        "outputId": "d06dbcc9-d6b7-4dd2-c7d5-d716d87218a5"
      },
      "execution_count": 9,
      "outputs": [
        {
          "output_type": "stream",
          "name": "stdout",
          "text": [
            "Column: max_del_12 created\n",
            "Column: max_del_9 created\n",
            "Column: max_del_6 created\n",
            "Column: max_del_3 created\n",
            "Column: n_x_dpd_12 created\n",
            "Column: n_30_dpd_12 created\n",
            "Column: n_60_dpd_12 created\n",
            "Column: n_90_dpd_12 created\n",
            "Column: n_x_dpd_9 created\n",
            "Column: n_30_dpd_9 created\n",
            "Column: n_60_dpd_9 created\n",
            "Column: n_90_dpd_9 created\n",
            "Column: n_x_dpd_6 created\n",
            "Column: n_30_dpd_6 created\n",
            "Column: n_60_dpd_6 created\n",
            "Column: n_90_dpd_6 created\n",
            "Column: n_x_dpd_3 created\n",
            "Column: n_30_dpd_3 created\n",
            "Column: n_60_dpd_3 created\n",
            "Column: n_90_dpd_3 created\n",
            "Column: n_last_month_30 created\n",
            "Column: n_last_month_60 created\n",
            "Column: n_last_month_90 created\n"
          ]
        }
      ]
    },
    {
      "cell_type": "code",
      "source": [
        "# Copy raw data to use later with staging result\n",
        "transactionRAW = transaction.copy()"
      ],
      "metadata": {
        "id": "gN8qtiU4GrLH"
      },
      "execution_count": 10,
      "outputs": []
    },
    {
      "cell_type": "code",
      "source": [
        "# Exclusion rules\n",
        "# 1: Less than 12-months performance window\n",
        "# 2: Bad at observation point (Defaulted transaction)\n",
        "\n",
        "transaction = transaction.query(\n",
        "    \"Monthkey <= Monthkey.max() - 12 & dfFlag != 1\"\n",
        ")\n",
        "\n",
        "# 3: Last transaction (No probability to observed)\n",
        "transaction = transaction[transaction['dfFlag1'].notnull()]\n",
        "\n",
        "# Data shape\n",
        "print(f'Total rows: {transaction.shape[0]}\\nTotal columns: {transaction.shape[1]}')"
      ],
      "metadata": {
        "colab": {
          "base_uri": "https://localhost:8080/"
        },
        "id": "mEE_Yhx04hyY",
        "outputId": "9c89ea69-44b1-4cda-ae03-2cffdf1eb1d2"
      },
      "execution_count": 11,
      "outputs": [
        {
          "output_type": "stream",
          "name": "stdout",
          "text": [
            "Total rows: 591428\n",
            "Total columns: 80\n"
          ]
        }
      ]
    },
    {
      "cell_type": "code",
      "source": [
        "# Summary table\n",
        "triggerSummary = []\n",
        "\n",
        "for trigger in triggers:\n",
        "  summary = transaction.groupby(\n",
        "      [trigger],\n",
        "      as_index = False,\n",
        "      dropna = False\n",
        "  ).agg(\n",
        "      {\n",
        "          'everDefault12' : [\n",
        "                             lambda x: x.sum(),\n",
        "                             lambda x: x.count(),\n",
        "                             lambda x: x.sum() / x.count()\n",
        "          ]\n",
        "      }\n",
        "  )\n",
        "  summary.columns = summary.columns.droplevel(1)\n",
        "  summary.columns = ['Value', 'Bad', 'N', 'BadRate']\n",
        "  summary = summary.reindex(\n",
        "      ['Trigger', *summary.columns],\n",
        "      axis = 1\n",
        "  ).assign(Trigger = trigger)\n",
        "  triggerSummary.append(summary)\n",
        "\n",
        "# To DataFrame\n",
        "triggerSummary = pd.concat(\n",
        "    triggerSummary,\n",
        "    axis = 0,\n",
        "    ignore_index = True\n",
        ")\n",
        "triggerSummary.head(5)"
      ],
      "metadata": {
        "colab": {
          "base_uri": "https://localhost:8080/",
          "height": 206
        },
        "id": "XeEJXDgYPf9G",
        "outputId": "b73ccddf-a64a-4947-9cb5-c44a7d3a2883"
      },
      "execution_count": 12,
      "outputs": [
        {
          "output_type": "execute_result",
          "data": {
            "text/html": [
              "\n",
              "  <div id=\"df-1280426d-fef2-4119-b938-02f680acfdb7\">\n",
              "    <div class=\"colab-df-container\">\n",
              "      <div>\n",
              "<style scoped>\n",
              "    .dataframe tbody tr th:only-of-type {\n",
              "        vertical-align: middle;\n",
              "    }\n",
              "\n",
              "    .dataframe tbody tr th {\n",
              "        vertical-align: top;\n",
              "    }\n",
              "\n",
              "    .dataframe thead th {\n",
              "        text-align: right;\n",
              "    }\n",
              "</style>\n",
              "<table border=\"1\" class=\"dataframe\">\n",
              "  <thead>\n",
              "    <tr style=\"text-align: right;\">\n",
              "      <th></th>\n",
              "      <th>Trigger</th>\n",
              "      <th>Value</th>\n",
              "      <th>Bad</th>\n",
              "      <th>N</th>\n",
              "      <th>BadRate</th>\n",
              "    </tr>\n",
              "  </thead>\n",
              "  <tbody>\n",
              "    <tr>\n",
              "      <th>0</th>\n",
              "      <td>max_del_12</td>\n",
              "      <td>0.0</td>\n",
              "      <td>508</td>\n",
              "      <td>178568</td>\n",
              "      <td>0.002845</td>\n",
              "    </tr>\n",
              "    <tr>\n",
              "      <th>1</th>\n",
              "      <td>max_del_12</td>\n",
              "      <td>1.0</td>\n",
              "      <td>2471</td>\n",
              "      <td>113139</td>\n",
              "      <td>0.021840</td>\n",
              "    </tr>\n",
              "    <tr>\n",
              "      <th>2</th>\n",
              "      <td>max_del_12</td>\n",
              "      <td>2.0</td>\n",
              "      <td>6681</td>\n",
              "      <td>54359</td>\n",
              "      <td>0.122905</td>\n",
              "    </tr>\n",
              "    <tr>\n",
              "      <th>3</th>\n",
              "      <td>max_del_12</td>\n",
              "      <td>3.0</td>\n",
              "      <td>3020</td>\n",
              "      <td>10138</td>\n",
              "      <td>0.297889</td>\n",
              "    </tr>\n",
              "    <tr>\n",
              "      <th>4</th>\n",
              "      <td>max_del_12</td>\n",
              "      <td>4.0</td>\n",
              "      <td>1205</td>\n",
              "      <td>2868</td>\n",
              "      <td>0.420153</td>\n",
              "    </tr>\n",
              "  </tbody>\n",
              "</table>\n",
              "</div>\n",
              "      <button class=\"colab-df-convert\" onclick=\"convertToInteractive('df-1280426d-fef2-4119-b938-02f680acfdb7')\"\n",
              "              title=\"Convert this dataframe to an interactive table.\"\n",
              "              style=\"display:none;\">\n",
              "        \n",
              "  <svg xmlns=\"http://www.w3.org/2000/svg\" height=\"24px\"viewBox=\"0 0 24 24\"\n",
              "       width=\"24px\">\n",
              "    <path d=\"M0 0h24v24H0V0z\" fill=\"none\"/>\n",
              "    <path d=\"M18.56 5.44l.94 2.06.94-2.06 2.06-.94-2.06-.94-.94-2.06-.94 2.06-2.06.94zm-11 1L8.5 8.5l.94-2.06 2.06-.94-2.06-.94L8.5 2.5l-.94 2.06-2.06.94zm10 10l.94 2.06.94-2.06 2.06-.94-2.06-.94-.94-2.06-.94 2.06-2.06.94z\"/><path d=\"M17.41 7.96l-1.37-1.37c-.4-.4-.92-.59-1.43-.59-.52 0-1.04.2-1.43.59L10.3 9.45l-7.72 7.72c-.78.78-.78 2.05 0 2.83L4 21.41c.39.39.9.59 1.41.59.51 0 1.02-.2 1.41-.59l7.78-7.78 2.81-2.81c.8-.78.8-2.07 0-2.86zM5.41 20L4 18.59l7.72-7.72 1.47 1.35L5.41 20z\"/>\n",
              "  </svg>\n",
              "      </button>\n",
              "      \n",
              "  <style>\n",
              "    .colab-df-container {\n",
              "      display:flex;\n",
              "      flex-wrap:wrap;\n",
              "      gap: 12px;\n",
              "    }\n",
              "\n",
              "    .colab-df-convert {\n",
              "      background-color: #E8F0FE;\n",
              "      border: none;\n",
              "      border-radius: 50%;\n",
              "      cursor: pointer;\n",
              "      display: none;\n",
              "      fill: #1967D2;\n",
              "      height: 32px;\n",
              "      padding: 0 0 0 0;\n",
              "      width: 32px;\n",
              "    }\n",
              "\n",
              "    .colab-df-convert:hover {\n",
              "      background-color: #E2EBFA;\n",
              "      box-shadow: 0px 1px 2px rgba(60, 64, 67, 0.3), 0px 1px 3px 1px rgba(60, 64, 67, 0.15);\n",
              "      fill: #174EA6;\n",
              "    }\n",
              "\n",
              "    [theme=dark] .colab-df-convert {\n",
              "      background-color: #3B4455;\n",
              "      fill: #D2E3FC;\n",
              "    }\n",
              "\n",
              "    [theme=dark] .colab-df-convert:hover {\n",
              "      background-color: #434B5C;\n",
              "      box-shadow: 0px 1px 3px 1px rgba(0, 0, 0, 0.15);\n",
              "      filter: drop-shadow(0px 1px 2px rgba(0, 0, 0, 0.3));\n",
              "      fill: #FFFFFF;\n",
              "    }\n",
              "  </style>\n",
              "\n",
              "      <script>\n",
              "        const buttonEl =\n",
              "          document.querySelector('#df-1280426d-fef2-4119-b938-02f680acfdb7 button.colab-df-convert');\n",
              "        buttonEl.style.display =\n",
              "          google.colab.kernel.accessAllowed ? 'block' : 'none';\n",
              "\n",
              "        async function convertToInteractive(key) {\n",
              "          const element = document.querySelector('#df-1280426d-fef2-4119-b938-02f680acfdb7');\n",
              "          const dataTable =\n",
              "            await google.colab.kernel.invokeFunction('convertToInteractive',\n",
              "                                                     [key], {});\n",
              "          if (!dataTable) return;\n",
              "\n",
              "          const docLinkHtml = 'Like what you see? Visit the ' +\n",
              "            '<a target=\"_blank\" href=https://colab.research.google.com/notebooks/data_table.ipynb>data table notebook</a>'\n",
              "            + ' to learn more about interactive tables.';\n",
              "          element.innerHTML = '';\n",
              "          dataTable['output_type'] = 'display_data';\n",
              "          await google.colab.output.renderOutput(dataTable, element);\n",
              "          const docLink = document.createElement('div');\n",
              "          docLink.innerHTML = docLinkHtml;\n",
              "          element.appendChild(docLink);\n",
              "        }\n",
              "      </script>\n",
              "    </div>\n",
              "  </div>\n",
              "  "
            ],
            "text/plain": [
              "      Trigger  Value   Bad       N   BadRate\n",
              "0  max_del_12    0.0   508  178568  0.002845\n",
              "1  max_del_12    1.0  2471  113139  0.021840\n",
              "2  max_del_12    2.0  6681   54359  0.122905\n",
              "3  max_del_12    3.0  3020   10138  0.297889\n",
              "4  max_del_12    4.0  1205    2868  0.420153"
            ]
          },
          "metadata": {},
          "execution_count": 12
        }
      ]
    },
    {
      "cell_type": "code",
      "source": [
        "# 30+ DPD as threshold for stage 2 trigger\n",
        "threshold = (\n",
        "    transaction.groupby(['BUCKETS'])['everDefault12'].sum() / \\\n",
        "    transaction.groupby(['BUCKETS'])['everDefault12'].count()\n",
        ")\n",
        "\n",
        "threshold"
      ],
      "metadata": {
        "colab": {
          "base_uri": "https://localhost:8080/"
        },
        "id": "UmnFzk02T0OU",
        "outputId": "97f27069-6192-4dee-80e7-6d7a9b6a7c34"
      },
      "execution_count": 13,
      "outputs": [
        {
          "output_type": "execute_result",
          "data": {
            "text/plain": [
              "BUCKETS\n",
              "0    0.012973\n",
              "1    0.072037\n",
              "2    0.250602\n",
              "3    0.696702\n",
              "Name: everDefault12, dtype: float64"
            ]
          },
          "metadata": {},
          "execution_count": 13
        }
      ]
    },
    {
      "cell_type": "code",
      "source": [
        "# Extra first value of significant\n",
        "triggerSelect = triggerSummary[\n",
        "               triggerSummary['BadRate'] > threshold[2]\n",
        "].groupby(\n",
        "    ['Trigger'],\n",
        "    as_index = False,\n",
        "    dropna = False\n",
        ")['Value'].min()\n",
        "\n",
        "triggerSelect = pd.merge(\n",
        "    triggerSelect,\n",
        "    triggerSummary[['Trigger', 'Value', 'BadRate']],\n",
        "    how = 'left',\n",
        "    left_on = ['Trigger', 'Value'],\n",
        "    right_on = ['Trigger', 'Value'],\n",
        ")\n",
        "\n",
        "triggerSelect"
      ],
      "metadata": {
        "id": "6yuxvTpMVFXs",
        "colab": {
          "base_uri": "https://localhost:8080/",
          "height": 645
        },
        "outputId": "f62d3da2-d3b5-4afc-b6d6-0ec73830b878"
      },
      "execution_count": 14,
      "outputs": [
        {
          "output_type": "execute_result",
          "data": {
            "text/html": [
              "\n",
              "  <div id=\"df-d1800e5d-4b0d-43b3-bb2a-c32033658b70\">\n",
              "    <div class=\"colab-df-container\">\n",
              "      <div>\n",
              "<style scoped>\n",
              "    .dataframe tbody tr th:only-of-type {\n",
              "        vertical-align: middle;\n",
              "    }\n",
              "\n",
              "    .dataframe tbody tr th {\n",
              "        vertical-align: top;\n",
              "    }\n",
              "\n",
              "    .dataframe thead th {\n",
              "        text-align: right;\n",
              "    }\n",
              "</style>\n",
              "<table border=\"1\" class=\"dataframe\">\n",
              "  <thead>\n",
              "    <tr style=\"text-align: right;\">\n",
              "      <th></th>\n",
              "      <th>Trigger</th>\n",
              "      <th>Value</th>\n",
              "      <th>BadRate</th>\n",
              "    </tr>\n",
              "  </thead>\n",
              "  <tbody>\n",
              "    <tr>\n",
              "      <th>0</th>\n",
              "      <td>max_del_12</td>\n",
              "      <td>3.0</td>\n",
              "      <td>0.297889</td>\n",
              "    </tr>\n",
              "    <tr>\n",
              "      <th>1</th>\n",
              "      <td>max_del_3</td>\n",
              "      <td>3.0</td>\n",
              "      <td>0.422144</td>\n",
              "    </tr>\n",
              "    <tr>\n",
              "      <th>2</th>\n",
              "      <td>max_del_6</td>\n",
              "      <td>3.0</td>\n",
              "      <td>0.369527</td>\n",
              "    </tr>\n",
              "    <tr>\n",
              "      <th>3</th>\n",
              "      <td>max_del_9</td>\n",
              "      <td>3.0</td>\n",
              "      <td>0.331609</td>\n",
              "    </tr>\n",
              "    <tr>\n",
              "      <th>4</th>\n",
              "      <td>n_30_dpd_12</td>\n",
              "      <td>7.0</td>\n",
              "      <td>0.262071</td>\n",
              "    </tr>\n",
              "    <tr>\n",
              "      <th>5</th>\n",
              "      <td>n_30_dpd_3</td>\n",
              "      <td>2.0</td>\n",
              "      <td>0.291779</td>\n",
              "    </tr>\n",
              "    <tr>\n",
              "      <th>6</th>\n",
              "      <td>n_30_dpd_6</td>\n",
              "      <td>3.0</td>\n",
              "      <td>0.257231</td>\n",
              "    </tr>\n",
              "    <tr>\n",
              "      <th>7</th>\n",
              "      <td>n_30_dpd_9</td>\n",
              "      <td>5.0</td>\n",
              "      <td>0.262483</td>\n",
              "    </tr>\n",
              "    <tr>\n",
              "      <th>8</th>\n",
              "      <td>n_60_dpd_12</td>\n",
              "      <td>1.0</td>\n",
              "      <td>0.284103</td>\n",
              "    </tr>\n",
              "    <tr>\n",
              "      <th>9</th>\n",
              "      <td>n_60_dpd_3</td>\n",
              "      <td>1.0</td>\n",
              "      <td>0.428712</td>\n",
              "    </tr>\n",
              "    <tr>\n",
              "      <th>10</th>\n",
              "      <td>n_60_dpd_6</td>\n",
              "      <td>1.0</td>\n",
              "      <td>0.363809</td>\n",
              "    </tr>\n",
              "    <tr>\n",
              "      <th>11</th>\n",
              "      <td>n_60_dpd_9</td>\n",
              "      <td>1.0</td>\n",
              "      <td>0.322904</td>\n",
              "    </tr>\n",
              "    <tr>\n",
              "      <th>12</th>\n",
              "      <td>n_90_dpd_12</td>\n",
              "      <td>1.0</td>\n",
              "      <td>0.399758</td>\n",
              "    </tr>\n",
              "    <tr>\n",
              "      <th>13</th>\n",
              "      <td>n_90_dpd_3</td>\n",
              "      <td>1.0</td>\n",
              "      <td>0.563243</td>\n",
              "    </tr>\n",
              "    <tr>\n",
              "      <th>14</th>\n",
              "      <td>n_90_dpd_6</td>\n",
              "      <td>1.0</td>\n",
              "      <td>0.503817</td>\n",
              "    </tr>\n",
              "    <tr>\n",
              "      <th>15</th>\n",
              "      <td>n_90_dpd_9</td>\n",
              "      <td>1.0</td>\n",
              "      <td>0.452010</td>\n",
              "    </tr>\n",
              "    <tr>\n",
              "      <th>16</th>\n",
              "      <td>n_last_month_30</td>\n",
              "      <td>1.0</td>\n",
              "      <td>0.267152</td>\n",
              "    </tr>\n",
              "    <tr>\n",
              "      <th>17</th>\n",
              "      <td>n_last_month_60</td>\n",
              "      <td>1.0</td>\n",
              "      <td>0.472886</td>\n",
              "    </tr>\n",
              "    <tr>\n",
              "      <th>18</th>\n",
              "      <td>n_last_month_90</td>\n",
              "      <td>1.0</td>\n",
              "      <td>0.610887</td>\n",
              "    </tr>\n",
              "  </tbody>\n",
              "</table>\n",
              "</div>\n",
              "      <button class=\"colab-df-convert\" onclick=\"convertToInteractive('df-d1800e5d-4b0d-43b3-bb2a-c32033658b70')\"\n",
              "              title=\"Convert this dataframe to an interactive table.\"\n",
              "              style=\"display:none;\">\n",
              "        \n",
              "  <svg xmlns=\"http://www.w3.org/2000/svg\" height=\"24px\"viewBox=\"0 0 24 24\"\n",
              "       width=\"24px\">\n",
              "    <path d=\"M0 0h24v24H0V0z\" fill=\"none\"/>\n",
              "    <path d=\"M18.56 5.44l.94 2.06.94-2.06 2.06-.94-2.06-.94-.94-2.06-.94 2.06-2.06.94zm-11 1L8.5 8.5l.94-2.06 2.06-.94-2.06-.94L8.5 2.5l-.94 2.06-2.06.94zm10 10l.94 2.06.94-2.06 2.06-.94-2.06-.94-.94-2.06-.94 2.06-2.06.94z\"/><path d=\"M17.41 7.96l-1.37-1.37c-.4-.4-.92-.59-1.43-.59-.52 0-1.04.2-1.43.59L10.3 9.45l-7.72 7.72c-.78.78-.78 2.05 0 2.83L4 21.41c.39.39.9.59 1.41.59.51 0 1.02-.2 1.41-.59l7.78-7.78 2.81-2.81c.8-.78.8-2.07 0-2.86zM5.41 20L4 18.59l7.72-7.72 1.47 1.35L5.41 20z\"/>\n",
              "  </svg>\n",
              "      </button>\n",
              "      \n",
              "  <style>\n",
              "    .colab-df-container {\n",
              "      display:flex;\n",
              "      flex-wrap:wrap;\n",
              "      gap: 12px;\n",
              "    }\n",
              "\n",
              "    .colab-df-convert {\n",
              "      background-color: #E8F0FE;\n",
              "      border: none;\n",
              "      border-radius: 50%;\n",
              "      cursor: pointer;\n",
              "      display: none;\n",
              "      fill: #1967D2;\n",
              "      height: 32px;\n",
              "      padding: 0 0 0 0;\n",
              "      width: 32px;\n",
              "    }\n",
              "\n",
              "    .colab-df-convert:hover {\n",
              "      background-color: #E2EBFA;\n",
              "      box-shadow: 0px 1px 2px rgba(60, 64, 67, 0.3), 0px 1px 3px 1px rgba(60, 64, 67, 0.15);\n",
              "      fill: #174EA6;\n",
              "    }\n",
              "\n",
              "    [theme=dark] .colab-df-convert {\n",
              "      background-color: #3B4455;\n",
              "      fill: #D2E3FC;\n",
              "    }\n",
              "\n",
              "    [theme=dark] .colab-df-convert:hover {\n",
              "      background-color: #434B5C;\n",
              "      box-shadow: 0px 1px 3px 1px rgba(0, 0, 0, 0.15);\n",
              "      filter: drop-shadow(0px 1px 2px rgba(0, 0, 0, 0.3));\n",
              "      fill: #FFFFFF;\n",
              "    }\n",
              "  </style>\n",
              "\n",
              "      <script>\n",
              "        const buttonEl =\n",
              "          document.querySelector('#df-d1800e5d-4b0d-43b3-bb2a-c32033658b70 button.colab-df-convert');\n",
              "        buttonEl.style.display =\n",
              "          google.colab.kernel.accessAllowed ? 'block' : 'none';\n",
              "\n",
              "        async function convertToInteractive(key) {\n",
              "          const element = document.querySelector('#df-d1800e5d-4b0d-43b3-bb2a-c32033658b70');\n",
              "          const dataTable =\n",
              "            await google.colab.kernel.invokeFunction('convertToInteractive',\n",
              "                                                     [key], {});\n",
              "          if (!dataTable) return;\n",
              "\n",
              "          const docLinkHtml = 'Like what you see? Visit the ' +\n",
              "            '<a target=\"_blank\" href=https://colab.research.google.com/notebooks/data_table.ipynb>data table notebook</a>'\n",
              "            + ' to learn more about interactive tables.';\n",
              "          element.innerHTML = '';\n",
              "          dataTable['output_type'] = 'display_data';\n",
              "          await google.colab.output.renderOutput(dataTable, element);\n",
              "          const docLink = document.createElement('div');\n",
              "          docLink.innerHTML = docLinkHtml;\n",
              "          element.appendChild(docLink);\n",
              "        }\n",
              "      </script>\n",
              "    </div>\n",
              "  </div>\n",
              "  "
            ],
            "text/plain": [
              "            Trigger  Value   BadRate\n",
              "0        max_del_12    3.0  0.297889\n",
              "1         max_del_3    3.0  0.422144\n",
              "2         max_del_6    3.0  0.369527\n",
              "3         max_del_9    3.0  0.331609\n",
              "4       n_30_dpd_12    7.0  0.262071\n",
              "5        n_30_dpd_3    2.0  0.291779\n",
              "6        n_30_dpd_6    3.0  0.257231\n",
              "7        n_30_dpd_9    5.0  0.262483\n",
              "8       n_60_dpd_12    1.0  0.284103\n",
              "9        n_60_dpd_3    1.0  0.428712\n",
              "10       n_60_dpd_6    1.0  0.363809\n",
              "11       n_60_dpd_9    1.0  0.322904\n",
              "12      n_90_dpd_12    1.0  0.399758\n",
              "13       n_90_dpd_3    1.0  0.563243\n",
              "14       n_90_dpd_6    1.0  0.503817\n",
              "15       n_90_dpd_9    1.0  0.452010\n",
              "16  n_last_month_30    1.0  0.267152\n",
              "17  n_last_month_60    1.0  0.472886\n",
              "18  n_last_month_90    1.0  0.610887"
            ]
          },
          "metadata": {},
          "execution_count": 14
        }
      ]
    },
    {
      "cell_type": "code",
      "source": [
        "# Selected triggers\n",
        "'''\n",
        "max_del_3 --> 3\n",
        "n_60_dpd_3 --> 1\n",
        "n_last_month_60 --> 1\n",
        "'''\n",
        "\n",
        "# Apply staging criteria with raw transaction\n",
        "transactionRAW['Stage'] = np.where(\n",
        "    (\n",
        "        (transactionRAW['BUCKETS'].between(2, 3)) | \\\n",
        "        (transactionRAW['max_del_3'] == 3) | \\\n",
        "        (transactionRAW['n_60_dpd_3'] == 1) | \\\n",
        "        (transactionRAW['n_last_month_60'] == 1)\n",
        "    ),\n",
        "    2,\n",
        "    np.where(\n",
        "        transactionRAW['BUCKETS'].between(0, 1),\n",
        "        1,\n",
        "        3\n",
        "    )\n",
        ")\n",
        "\n",
        "# Count summary\n",
        "stageCount = transactionRAW.groupby(\n",
        "    ['Monthkey', 'Stage'],\n",
        "    as_index = False\n",
        ")['Br_Con'].count().rename(\n",
        "    columns = {'Br_Con': 'Count'}\n",
        ")"
      ],
      "metadata": {
        "id": "Gcp-5PrpYmpv"
      },
      "execution_count": 15,
      "outputs": []
    },
    {
      "cell_type": "code",
      "source": [
        "# Create equal shape summary tabel\n",
        "stageProtion = []\n",
        "maxMonth = transactionRAW['Monthkey'].max()\n",
        "\n",
        "for stage in range(1, 4):\n",
        "  table = pd.DataFrame(\n",
        "      range(1, maxMonth + 1),\n",
        "      columns = ['Monthkey']\n",
        "  ).assign(Stage = stage)\n",
        "  stageProtion.append(table)\n",
        "\n",
        "stageProtion = pd.concat(stageProtion, axis = 0)\n",
        "\n",
        "# Mapping staging result\n",
        "stageProtion = pd.merge(\n",
        "    stageProtion,\n",
        "    stageCount[['Monthkey', 'Stage', 'Count']],\n",
        "    how = 'left',\n",
        "    left_on = ['Monthkey', 'Stage'],\n",
        "    right_on = ['Monthkey', 'Stage'],\n",
        ").fillna(0).sort_values(\n",
        "    by = ['Monthkey', 'Stage'],\n",
        "    ignore_index = True\n",
        ")\n",
        "\n",
        "stageProtion.head(5)"
      ],
      "metadata": {
        "colab": {
          "base_uri": "https://localhost:8080/",
          "height": 206
        },
        "id": "HqhCQrZzNMvc",
        "outputId": "78993098-019e-4b93-84bf-cb2295140d93"
      },
      "execution_count": 16,
      "outputs": [
        {
          "output_type": "execute_result",
          "data": {
            "text/html": [
              "\n",
              "  <div id=\"df-4855e9ab-a7e2-4700-9433-e2348e4a8f55\">\n",
              "    <div class=\"colab-df-container\">\n",
              "      <div>\n",
              "<style scoped>\n",
              "    .dataframe tbody tr th:only-of-type {\n",
              "        vertical-align: middle;\n",
              "    }\n",
              "\n",
              "    .dataframe tbody tr th {\n",
              "        vertical-align: top;\n",
              "    }\n",
              "\n",
              "    .dataframe thead th {\n",
              "        text-align: right;\n",
              "    }\n",
              "</style>\n",
              "<table border=\"1\" class=\"dataframe\">\n",
              "  <thead>\n",
              "    <tr style=\"text-align: right;\">\n",
              "      <th></th>\n",
              "      <th>Monthkey</th>\n",
              "      <th>Stage</th>\n",
              "      <th>Count</th>\n",
              "    </tr>\n",
              "  </thead>\n",
              "  <tbody>\n",
              "    <tr>\n",
              "      <th>0</th>\n",
              "      <td>1</td>\n",
              "      <td>1</td>\n",
              "      <td>565.0</td>\n",
              "    </tr>\n",
              "    <tr>\n",
              "      <th>1</th>\n",
              "      <td>1</td>\n",
              "      <td>2</td>\n",
              "      <td>0.0</td>\n",
              "    </tr>\n",
              "    <tr>\n",
              "      <th>2</th>\n",
              "      <td>1</td>\n",
              "      <td>3</td>\n",
              "      <td>0.0</td>\n",
              "    </tr>\n",
              "    <tr>\n",
              "      <th>3</th>\n",
              "      <td>2</td>\n",
              "      <td>1</td>\n",
              "      <td>1118.0</td>\n",
              "    </tr>\n",
              "    <tr>\n",
              "      <th>4</th>\n",
              "      <td>2</td>\n",
              "      <td>2</td>\n",
              "      <td>0.0</td>\n",
              "    </tr>\n",
              "  </tbody>\n",
              "</table>\n",
              "</div>\n",
              "      <button class=\"colab-df-convert\" onclick=\"convertToInteractive('df-4855e9ab-a7e2-4700-9433-e2348e4a8f55')\"\n",
              "              title=\"Convert this dataframe to an interactive table.\"\n",
              "              style=\"display:none;\">\n",
              "        \n",
              "  <svg xmlns=\"http://www.w3.org/2000/svg\" height=\"24px\"viewBox=\"0 0 24 24\"\n",
              "       width=\"24px\">\n",
              "    <path d=\"M0 0h24v24H0V0z\" fill=\"none\"/>\n",
              "    <path d=\"M18.56 5.44l.94 2.06.94-2.06 2.06-.94-2.06-.94-.94-2.06-.94 2.06-2.06.94zm-11 1L8.5 8.5l.94-2.06 2.06-.94-2.06-.94L8.5 2.5l-.94 2.06-2.06.94zm10 10l.94 2.06.94-2.06 2.06-.94-2.06-.94-.94-2.06-.94 2.06-2.06.94z\"/><path d=\"M17.41 7.96l-1.37-1.37c-.4-.4-.92-.59-1.43-.59-.52 0-1.04.2-1.43.59L10.3 9.45l-7.72 7.72c-.78.78-.78 2.05 0 2.83L4 21.41c.39.39.9.59 1.41.59.51 0 1.02-.2 1.41-.59l7.78-7.78 2.81-2.81c.8-.78.8-2.07 0-2.86zM5.41 20L4 18.59l7.72-7.72 1.47 1.35L5.41 20z\"/>\n",
              "  </svg>\n",
              "      </button>\n",
              "      \n",
              "  <style>\n",
              "    .colab-df-container {\n",
              "      display:flex;\n",
              "      flex-wrap:wrap;\n",
              "      gap: 12px;\n",
              "    }\n",
              "\n",
              "    .colab-df-convert {\n",
              "      background-color: #E8F0FE;\n",
              "      border: none;\n",
              "      border-radius: 50%;\n",
              "      cursor: pointer;\n",
              "      display: none;\n",
              "      fill: #1967D2;\n",
              "      height: 32px;\n",
              "      padding: 0 0 0 0;\n",
              "      width: 32px;\n",
              "    }\n",
              "\n",
              "    .colab-df-convert:hover {\n",
              "      background-color: #E2EBFA;\n",
              "      box-shadow: 0px 1px 2px rgba(60, 64, 67, 0.3), 0px 1px 3px 1px rgba(60, 64, 67, 0.15);\n",
              "      fill: #174EA6;\n",
              "    }\n",
              "\n",
              "    [theme=dark] .colab-df-convert {\n",
              "      background-color: #3B4455;\n",
              "      fill: #D2E3FC;\n",
              "    }\n",
              "\n",
              "    [theme=dark] .colab-df-convert:hover {\n",
              "      background-color: #434B5C;\n",
              "      box-shadow: 0px 1px 3px 1px rgba(0, 0, 0, 0.15);\n",
              "      filter: drop-shadow(0px 1px 2px rgba(0, 0, 0, 0.3));\n",
              "      fill: #FFFFFF;\n",
              "    }\n",
              "  </style>\n",
              "\n",
              "      <script>\n",
              "        const buttonEl =\n",
              "          document.querySelector('#df-4855e9ab-a7e2-4700-9433-e2348e4a8f55 button.colab-df-convert');\n",
              "        buttonEl.style.display =\n",
              "          google.colab.kernel.accessAllowed ? 'block' : 'none';\n",
              "\n",
              "        async function convertToInteractive(key) {\n",
              "          const element = document.querySelector('#df-4855e9ab-a7e2-4700-9433-e2348e4a8f55');\n",
              "          const dataTable =\n",
              "            await google.colab.kernel.invokeFunction('convertToInteractive',\n",
              "                                                     [key], {});\n",
              "          if (!dataTable) return;\n",
              "\n",
              "          const docLinkHtml = 'Like what you see? Visit the ' +\n",
              "            '<a target=\"_blank\" href=https://colab.research.google.com/notebooks/data_table.ipynb>data table notebook</a>'\n",
              "            + ' to learn more about interactive tables.';\n",
              "          element.innerHTML = '';\n",
              "          dataTable['output_type'] = 'display_data';\n",
              "          await google.colab.output.renderOutput(dataTable, element);\n",
              "          const docLink = document.createElement('div');\n",
              "          docLink.innerHTML = docLinkHtml;\n",
              "          element.appendChild(docLink);\n",
              "        }\n",
              "      </script>\n",
              "    </div>\n",
              "  </div>\n",
              "  "
            ],
            "text/plain": [
              "   Monthkey  Stage   Count\n",
              "0         1      1   565.0\n",
              "1         1      2     0.0\n",
              "2         1      3     0.0\n",
              "3         2      1  1118.0\n",
              "4         2      2     0.0"
            ]
          },
          "metadata": {},
          "execution_count": 16
        }
      ]
    },
    {
      "cell_type": "code",
      "source": [
        "# Plot stage protion\n",
        "stageAll = []\n",
        "\n",
        "for i in range(1, 4):\n",
        "  stage = np.array(stageProtion[stageProtion['Stage'] == i]['Count'])\n",
        "  stageAll.append(stage)\n",
        "\n",
        "stageAll = np.array(stageAll)\n",
        "\n",
        "plt.figure(figsize = (10, 6))\n",
        "plt.stackplot(\n",
        "    pd.date_range(\n",
        "        transactionRAW['AS_OF_DATE'].min(),\n",
        "        transactionRAW['AS_OF_DATE'].max(),\n",
        "        freq = 'M'\n",
        "    ),\n",
        "    stageAll[0],\n",
        "    stageAll[1],\n",
        "    stageAll[2],\n",
        "    baseline = 'zero',\n",
        "    colors = ['lightblue', 'teal', 'red'],\n",
        "    labels = ['Stage 1', 'Stage 2', 'Stage 3']\n",
        ")\n",
        "plt.xlabel('Datetime')\n",
        "plt.ylabel('Number of account')\n",
        "plt.title('Stage portion with portfolio growth')\n",
        "plt.legend(frameon = True, facecolor = 'white')\n",
        "plt.show()"
      ],
      "metadata": {
        "colab": {
          "base_uri": "https://localhost:8080/",
          "height": 403
        },
        "id": "gA6ye_VlaaF9",
        "outputId": "338f647e-7a7b-4398-de19-bb5c502d9e85"
      },
      "execution_count": 17,
      "outputs": [
        {
          "output_type": "display_data",
          "data": {
            "image/png": "[encoded data removed]",
            "text/plain": [
              "<Figure size 720x432 with 1 Axes>"
            ]
          },
          "metadata": {
            "image/png": {
              "width": 625,
              "height": 386
            },
            "needs_background": "light"
          }
        }
      ]
    },
    {
      "cell_type": "code",
      "source": [
        "# Plot proportion analysis\n",
        "plt.figure(figsize = (10, 6))\n",
        "plt.stackplot(\n",
        "    pd.date_range(\n",
        "        transactionRAW['AS_OF_DATE'].min(),\n",
        "        transactionRAW['AS_OF_DATE'].max(),\n",
        "        freq = 'M'\n",
        "    ),\n",
        "    stageAll / stageAll.sum(axis = 0).astype(float) * 100,\n",
        "    colors = ['lightblue', 'teal', 'red'],\n",
        "    labels = ['Stage 1', 'Stage 2', 'Stage 3']\n",
        ")\n",
        "plt.gca().set_yticklabels([f'{y:.2f}%' for y in plt.gca().get_yticks()])\n",
        "plt.margins(0, 0)\n",
        "plt.xlabel('Datetime')\n",
        "plt.ylabel('Percentages of stage')\n",
        "plt.title('Proportion analysis')\n",
        "plt.legend(frameon = True, facecolor = 'white')\n",
        "plt.show()"
      ],
      "metadata": {
        "colab": {
          "base_uri": "https://localhost:8080/",
          "height": 403
        },
        "id": "XrIFdk58SX1i",
        "outputId": "2b3014f2-801e-442c-fd72-ee67ed45660c"
      },
      "execution_count": 18,
      "outputs": [
        {
          "output_type": "display_data",
          "data": {
            "image/png": "[encoded data removed]",
            "text/plain": [
              "<Figure size 720x432 with 1 Axes>"
            ]
          },
          "metadata": {
            "image/png": {
              "width": 637,
              "height": 386
            },
            "needs_background": "light"
          }
        }
      ]
    },
    {
      "cell_type": "code",
      "source": [
        "# Stage 2 Analysis\n",
        "stage2 = transactionRAW.query(\n",
        "    \"Stage == 2 & BUCKETS <= 1\"\n",
        ") #Only stage 2 without delinquency criteria\n",
        "\n",
        "# Triggers condition\n",
        "triggerValues = []\n",
        "\n",
        "for trigger, j in zip(['max_del_3', 'n_60_dpd_3', 'n_last_month_60'], [3, 1, 1]):\n",
        "  value = (stage2[trigger] == j).sum()\n",
        "  triggerValues.append(value)\n",
        "\n",
        "# Plot\n",
        "plt.figure(figsize = (10, 6))\n",
        "plt.bar(\n",
        "    range(len(triggerValues)),\n",
        "    triggerValues / sum(triggerValues),\n",
        "    width = 0.4,\n",
        "    color = 'teal'\n",
        ")\n",
        "plt.xticks(\n",
        "    range(len(triggerValues)),\n",
        "    ['max_del_3', 'n_60_dpd_3', 'n_last_month_60']\n",
        ")\n",
        "plt.gca().set_yticklabels([f'{y * 100:.2f}%' for y in plt.gca().get_yticks()])\n",
        "plt.xlabel('Trigger')\n",
        "plt.ylabel('Percentages of trigger')\n",
        "plt.title('Trigger analysis')\n",
        "plt.show()"
      ],
      "metadata": {
        "id": "mfzmkbaUVtQF",
        "colab": {
          "base_uri": "https://localhost:8080/",
          "height": 403
        },
        "outputId": "ba381bbc-2426-4397-bd7a-25a4d0749cea"
      },
      "execution_count": 19,
      "outputs": [
        {
          "output_type": "display_data",
          "data": {
            "image/png": "[encoded data removed]",
            "text/plain": [
              "<Figure size 720x432 with 1 Axes>"
            ]
          },
          "metadata": {
            "image/png": {
              "width": 631,
              "height": 386
            },
            "needs_background": "light"
          }
        }
      ]
    }
  ]
}